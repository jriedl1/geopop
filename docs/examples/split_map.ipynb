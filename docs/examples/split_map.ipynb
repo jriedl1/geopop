{
 "cells": [
  {
   "cell_type": "code",
   "execution_count": null,
   "metadata": {},
   "outputs": [],
   "source": [
    "from geopop.foliummap import Map\n",
    "\n",
    "# Create a custom map instance\n",
    "m = Map(center=(37.7749, -122.4194), zoom=10)  # Centered on San Francisco\n",
    "\n",
    "# Add a split map with two tile layers\n",
    "left_layer = \"openstreetmap\"  # OpenStreetMap tile layer\n",
    "right_layer = \"cartodbpositron\"  # CartoDB Positron tile layer\n",
    "m.add_split_map(left=left_layer, right=right_layer)\n",
    "\n",
    "# Save the map to an HTML file\n",
    "m.save(\"split_map_demo.html\")\n",
    "m"
   ]
  }
 ],
 "metadata": {
  "kernelspec": {
   "display_name": "myenv",
   "language": "python",
   "name": "python3"
  },
  "language_info": {
   "codemirror_mode": {
    "name": "ipython",
    "version": 3
   },
   "file_extension": ".py",
   "mimetype": "text/x-python",
   "name": "python",
   "nbconvert_exporter": "python",
   "pygments_lexer": "ipython3",
   "version": "3.12.2"
  }
 },
 "nbformat": 4,
 "nbformat_minor": 2
}
